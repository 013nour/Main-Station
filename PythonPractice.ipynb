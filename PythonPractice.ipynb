{
  "nbformat": 4,
  "nbformat_minor": 0,
  "metadata": {
    "colab": {
      "provenance": [],
      "authorship_tag": "ABX9TyNXKrOwkSHXHA6CEoyFZwYr",
      "include_colab_link": true
    },
    "kernelspec": {
      "name": "python3",
      "display_name": "Python 3"
    },
    "language_info": {
      "name": "python"
    }
  },
  "cells": [
    {
      "cell_type": "markdown",
      "metadata": {
        "id": "view-in-github",
        "colab_type": "text"
      },
      "source": [
        "<a href=\"https://colab.research.google.com/github/013nour/Main-Station/blob/PythonPractice/PythonPractice.ipynb\" target=\"_parent\"><img src=\"https://colab.research.google.com/assets/colab-badge.svg\" alt=\"Open In Colab\"/></a>"
      ]
    },
    {
      "cell_type": "markdown",
      "source": [
        "**Day 1** 30/6/2023"
      ],
      "metadata": {
        "id": "9UK2sgRI9srk"
      }
    },
    {
      "cell_type": "code",
      "execution_count": null,
      "metadata": {
        "id": "EdRb3ak843Tg",
        "colab": {
          "base_uri": "https://localhost:8080/"
        },
        "outputId": "edcaa138-d4c7-4888-e999-06c2ac7d3302"
      },
      "outputs": [
        {
          "output_type": "stream",
          "name": "stdout",
          "text": [
            "input the radians degree  2.87\n",
            "the angle in degree 164\n"
          ]
        }
      ],
      "source": [
        "#1 : Convert radians into degrees\n",
        "import math\n",
        "radians = input(\"input the radians degree  \")\n",
        "degree = (float(radians)*180)/math.pi\n",
        "print(\"the angle in degree\", round(degree))"
      ]
    },
    {
      "cell_type": "code",
      "source": [
        "#2 : Sort a list\n",
        "\n",
        "par1 = [1,44,73,26,9,2]\n",
        "par2 = [ \"asc\", \"desc\", \"none\"]\n",
        "par1copy = par1.copy()\n",
        "for i in par2:\n",
        "  print(i)\n",
        "  if (i == \"asc\"):\n",
        "    par1copy.sort()\n",
        "    print(par1copy)\n",
        "  elif (i == \"desc\"):\n",
        "    par1copy.sort(reverse=True)\n",
        "    print(par1copy)\n",
        "  else :\n",
        "    print(par1)"
      ],
      "metadata": {
        "colab": {
          "base_uri": "https://localhost:8080/"
        },
        "id": "FoLByxY14gBm",
        "outputId": "1463ea5e-70e9-478c-e711-e21cc4341499"
      },
      "execution_count": null,
      "outputs": [
        {
          "output_type": "stream",
          "name": "stdout",
          "text": [
            "asc\n",
            "[1, 2, 9, 26, 44, 73]\n",
            "desc\n",
            "[73, 44, 26, 9, 2, 1]\n",
            "none\n",
            "[1, 44, 73, 26, 9, 2]\n"
          ]
        }
      ]
    },
    {
      "cell_type": "code",
      "source": [
        "#3 : Convert a decimal number into binary\n",
        "\n",
        "num = input(\"enter your decimal number  \")\n",
        "\n",
        "num=int(num)\n",
        "remainder=[]\n",
        "\n",
        "while (num != 0):\n",
        "  remainder.append(int(num%2))\n",
        "  num=int(num/2)\n",
        "\n",
        "print(remainder)"
      ],
      "metadata": {
        "colab": {
          "base_uri": "https://localhost:8080/"
        },
        "id": "zExXg7xJ9alg",
        "outputId": "78a7065a-682b-4b71-c03c-04f5cacb1b1b"
      },
      "execution_count": null,
      "outputs": [
        {
          "output_type": "stream",
          "name": "stdout",
          "text": [
            "enter your decimal number  27\n",
            "[1, 1, 0, 1, 1]\n"
          ]
        }
      ]
    },
    {
      "cell_type": "code",
      "source": [
        "#4 : Count the vowels in a string\n",
        "\n",
        "vowels=['a', 'e', 'i', 'o', 'u']\n",
        "\n",
        "sentence = input(\"Enter your sentence  \")\n",
        "counter = 0\n",
        "\n",
        "for i in sentence:\n",
        "  for j in vowels:\n",
        "    if (i == j):\n",
        "      counter+=1\n",
        "\n",
        "print(counter)"
      ],
      "metadata": {
        "colab": {
          "base_uri": "https://localhost:8080/"
        },
        "id": "ycdBTgdvCHh4",
        "outputId": "fad53cd6-2449-46b4-c31a-485e5122abde"
      },
      "execution_count": null,
      "outputs": [
        {
          "output_type": "stream",
          "name": "stdout",
          "text": [
            "Enter your sentence  nour\n",
            "2\n"
          ]
        }
      ]
    },
    {
      "cell_type": "code",
      "source": [
        "#5 : Hide the credit card number\n",
        "num = input(\"Enter your card number \")\n",
        "\n",
        "length = len(num)\n",
        "x= length-4\n",
        "\n",
        "while(x<length):\n",
        "  print(num[x],end=\"\")\n",
        "  x+=1"
      ],
      "metadata": {
        "colab": {
          "base_uri": "https://localhost:8080/"
        },
        "id": "12dhJgj_DWpp",
        "outputId": "c6aae692-7195-452e-d348-540e072f2e23"
      },
      "execution_count": null,
      "outputs": [
        {
          "output_type": "stream",
          "name": "stdout",
          "text": [
            "Enter your card number 2345678\n",
            "5678"
          ]
        }
      ]
    },
    {
      "cell_type": "markdown",
      "source": [
        "**Day 2** 2/7/2023"
      ],
      "metadata": {
        "id": "AqyQSSF3SFiS"
      }
    },
    {
      "cell_type": "code",
      "source": [
        "#6 : Are the Xs equal to the Os?\n",
        "\n",
        "string = input(\"Enter your string\")\n",
        "\n",
        "Os = 0\n",
        "Xs = 0\n",
        "\n",
        "for x in string:\n",
        "  if x == 'o':\n",
        "    Os+=1\n",
        "  elif x == 'x':\n",
        "    Xs+=1\n",
        "\n",
        "if (Os == Xs):\n",
        "  print(True)\n",
        "else :\n",
        "  print(False)"
      ],
      "metadata": {
        "colab": {
          "base_uri": "https://localhost:8080/"
        },
        "id": "NTZeNbldTEU9",
        "outputId": "c0f7f3af-8eb9-4e17-f5a8-f328922ef148"
      },
      "execution_count": null,
      "outputs": [
        {
          "output_type": "stream",
          "name": "stdout",
          "text": [
            "Enter your stringkjhjsfkjhjhkxo\n",
            "True\n"
          ]
        }
      ]
    },
    {
      "cell_type": "code",
      "source": [
        "#7 : Create a calculator function\n",
        "\n",
        "def calculator(x,y,op):\n",
        "  if op == '+':\n",
        "    print(x+y)\n",
        "  elif op == '-':\n",
        "    print(x-y)\n",
        "  elif op == '/':\n",
        "    print(x/y)\n",
        "  elif op == '*':\n",
        "    print(x*y)\n",
        "\n",
        "\n",
        "loop = 1\n",
        "\n",
        "while (loop == 1):\n",
        "  x  = input(\"Enter the first parameter which is an integer : \")\n",
        "  op = input(\"Enter the mathematical operators: +, -, /, * : \")\n",
        "  y  = input(\"Enter the Second parameter which is an integer : \")\n",
        "  calculator(int(x),int(y),op)\n",
        "  loop=input(\"Another Calculation ? 1/0\")"
      ],
      "metadata": {
        "colab": {
          "base_uri": "https://localhost:8080/"
        },
        "id": "tJm2N36oOVpU",
        "outputId": "052ab38c-cb61-4844-9989-22891e196e56"
      },
      "execution_count": 14,
      "outputs": [
        {
          "name": "stdout",
          "output_type": "stream",
          "text": [
            "Enter the first parameter which is an integer : 2\n",
            "Enter the mathematical operators: +, -, /, * : +\n",
            "Enter the Second parameter which is an integer : 2\n",
            "4\n",
            "Another Calculation ? 1/00\n"
          ]
        }
      ]
    },
    {
      "cell_type": "code",
      "source": [
        "#8 : Give me the discount\n",
        "\n",
        "FullPrice = int(input(\"Enter the full price : \"))\n",
        "Discount = int(input(\"Enter the Discount : \"))\n",
        "\n",
        "afterDiscount = FullPrice-(FullPrice*(Discount/100))\n",
        "print(afterDiscount)"
      ],
      "metadata": {
        "colab": {
          "base_uri": "https://localhost:8080/"
        },
        "id": "a6J5jmQXR0pA",
        "outputId": "2578b672-e10e-4a6a-f517-26dedf8fef94"
      },
      "execution_count": 15,
      "outputs": [
        {
          "output_type": "stream",
          "name": "stdout",
          "text": [
            "Enter the full price : 100\n",
            "Enter the Discount : 20\n",
            "80.0\n"
          ]
        }
      ]
    },
    {
      "cell_type": "code",
      "source": [
        "#9 : Just the numbers\n",
        "\n",
        "myList= []\n",
        "print(\"Enter your input : \")\n",
        "while True:\n",
        "    inp = input()\n",
        "    if inp == \"\":\n",
        "        break\n",
        "    else:\n",
        "      myList.append(inp)\n",
        "\n",
        "Integers= []\n",
        "for x in myList:\n",
        "  if (x.isdigit()):\n",
        "    Integers.append(x)\n",
        "\n",
        "print(Integers)"
      ],
      "metadata": {
        "colab": {
          "base_uri": "https://localhost:8080/"
        },
        "id": "-i5wjDr1TP9z",
        "outputId": "979193bb-c2fe-434c-99f5-716741849624"
      },
      "execution_count": 23,
      "outputs": [
        {
          "output_type": "stream",
          "name": "stdout",
          "text": [
            "Enter your input : \n",
            "gh\n",
            "44\n",
            "-60\n",
            "\n",
            "['44']\n"
          ]
        }
      ]
    },
    {
      "cell_type": "code",
      "source": [
        "#10 : Repeat the characters\n",
        "string = input(\"Enter your string :  \")\n",
        "for x in string:\n",
        "  print(x,end=\"\")\n",
        "  print(x,end=\"\")"
      ],
      "metadata": {
        "colab": {
          "base_uri": "https://localhost:8080/"
        },
        "id": "0UmyJ-tmXbWH",
        "outputId": "08349216-3602-459c-e1c7-a03d2360c9eb"
      },
      "execution_count": 26,
      "outputs": [
        {
          "output_type": "stream",
          "name": "stdout",
          "text": [
            "Enter your string :  My name is nour\n",
            "MMyy  nnaammee  iiss  nnoouurr"
          ]
        }
      ]
    }
  ]
}