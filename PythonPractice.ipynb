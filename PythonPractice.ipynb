{
  "nbformat": 4,
  "nbformat_minor": 0,
  "metadata": {
    "colab": {
      "provenance": [],
      "authorship_tag": "ABX9TyM0RgbRYJdOdHHt4lObKkuW",
      "include_colab_link": true
    },
    "kernelspec": {
      "name": "python3",
      "display_name": "Python 3"
    },
    "language_info": {
      "name": "python"
    }
  },
  "cells": [
    {
      "cell_type": "markdown",
      "metadata": {
        "id": "view-in-github",
        "colab_type": "text"
      },
      "source": [
        "<a href=\"https://colab.research.google.com/github/013nour/Main-Station/blob/PythonPractice/PythonPractice.ipynb\" target=\"_parent\"><img src=\"https://colab.research.google.com/assets/colab-badge.svg\" alt=\"Open In Colab\"/></a>"
      ]
    },
    {
      "cell_type": "markdown",
      "source": [
        "**Day 1**"
      ],
      "metadata": {
        "id": "9UK2sgRI9srk"
      }
    },
    {
      "cell_type": "code",
      "execution_count": null,
      "metadata": {
        "id": "EdRb3ak843Tg",
        "colab": {
          "base_uri": "https://localhost:8080/"
        },
        "outputId": "edcaa138-d4c7-4888-e999-06c2ac7d3302"
      },
      "outputs": [
        {
          "output_type": "stream",
          "name": "stdout",
          "text": [
            "input the radians degree  2.87\n",
            "the angle in degree 164\n"
          ]
        }
      ],
      "source": [
        "#Convert radians into degrees\n",
        "import math\n",
        "radians = input(\"input the radians degree  \")\n",
        "degree = (float(radians)*180)/math.pi\n",
        "print(\"the angle in degree\", round(degree))\n"
      ]
    },
    {
      "cell_type": "code",
      "source": [
        "#Sort a list\n",
        "\"\"\"\n",
        "Create a function in Python that accepts two parameters. The first will be a list of numbers.\n",
        "The second parameter will be a string that can be one of the following values: asc, desc, and none.\n",
        "If the second parameter is “asc,” then the function should return a list with the numbers in ascending order.\n",
        "If it’s “desc,” then the list should be in descending order, and if it’s “none,” it should return the original list unaltered.\n",
        "\"\"\"\n",
        "par1 = [1,44,73,26,9,2]\n",
        "par2 = [ \"asc\", \"desc\", \"none\"]\n",
        "par1copy = par1.copy()\n",
        "for i in par2:\n",
        "  print(i)\n",
        "  if (i == \"asc\"):\n",
        "    par1copy.sort()\n",
        "    print(par1copy)\n",
        "  elif (i == \"desc\"):\n",
        "    par1copy.sort(reverse=True)\n",
        "    print(par1copy)\n",
        "  else :\n",
        "    print(par1)\n",
        "\n",
        "\n",
        "\n",
        "\n"
      ],
      "metadata": {
        "colab": {
          "base_uri": "https://localhost:8080/"
        },
        "id": "FoLByxY14gBm",
        "outputId": "1463ea5e-70e9-478c-e711-e21cc4341499"
      },
      "execution_count": null,
      "outputs": [
        {
          "output_type": "stream",
          "name": "stdout",
          "text": [
            "asc\n",
            "[1, 2, 9, 26, 44, 73]\n",
            "desc\n",
            "[73, 44, 26, 9, 2, 1]\n",
            "none\n",
            "[1, 44, 73, 26, 9, 2]\n"
          ]
        }
      ]
    },
    {
      "cell_type": "code",
      "source": [
        "#Convert a decimal number into binary\n",
        "\n",
        "num = input(\"enter your decimal number  \")\n",
        "\n",
        "num=int(num)\n",
        "remainder=[]\n",
        "\n",
        "while (num != 0):\n",
        "  remainder.append(int(num%2))\n",
        "  num=int(num/2)\n",
        "\n",
        "print(remainder)\n"
      ],
      "metadata": {
        "colab": {
          "base_uri": "https://localhost:8080/"
        },
        "id": "zExXg7xJ9alg",
        "outputId": "78a7065a-682b-4b71-c03c-04f5cacb1b1b"
      },
      "execution_count": null,
      "outputs": [
        {
          "output_type": "stream",
          "name": "stdout",
          "text": [
            "enter your decimal number  27\n",
            "[1, 1, 0, 1, 1]\n"
          ]
        }
      ]
    },
    {
      "cell_type": "code",
      "source": [
        "#Count the vowels in a string\n",
        "\n",
        "vowels=['a', 'e', 'i', 'o', 'u']\n",
        "\n",
        "sentence = input(\"Enter your sentence  \")\n",
        "counter = 0\n",
        "\n",
        "for i in sentence:\n",
        "  for j in vowels:\n",
        "    if (i == j):\n",
        "      counter+=1\n",
        "\n",
        "print(counter)"
      ],
      "metadata": {
        "colab": {
          "base_uri": "https://localhost:8080/"
        },
        "id": "ycdBTgdvCHh4",
        "outputId": "fad53cd6-2449-46b4-c31a-485e5122abde"
      },
      "execution_count": null,
      "outputs": [
        {
          "output_type": "stream",
          "name": "stdout",
          "text": [
            "Enter your sentence  nour\n",
            "2\n"
          ]
        }
      ]
    },
    {
      "cell_type": "code",
      "source": [
        "#Hide the credit card number\n",
        "num = input(\"Enter your card number \")\n",
        "\n",
        "length = len(num)\n",
        "x= length-4\n",
        "\n",
        "while(x<length):\n",
        "  print(num[x],end=\"\")\n",
        "  x+=1"
      ],
      "metadata": {
        "colab": {
          "base_uri": "https://localhost:8080/",
          "height": 253
        },
        "id": "12dhJgj_DWpp",
        "outputId": "f4dcf86f-8c23-45ab-f80d-65da1ecb0f2c"
      },
      "execution_count": 73,
      "outputs": [
        {
          "name": "stdout",
          "output_type": "stream",
          "text": [
            "Enter your card number 2345678\n"
          ]
        },
        {
          "output_type": "error",
          "ename": "TypeError",
          "evalue": "ignored",
          "traceback": [
            "\u001b[0;31m---------------------------------------------------------------------------\u001b[0m",
            "\u001b[0;31mTypeError\u001b[0m                                 Traceback (most recent call last)",
            "\u001b[0;32m<ipython-input-73-16fc88f93403>\u001b[0m in \u001b[0;36m<cell line: 3>\u001b[0;34m()\u001b[0m\n\u001b[1;32m      1\u001b[0m \u001b[0;31m#Hide the credit card number\u001b[0m\u001b[0;34m\u001b[0m\u001b[0;34m\u001b[0m\u001b[0m\n\u001b[1;32m      2\u001b[0m \u001b[0mnum\u001b[0m \u001b[0;34m=\u001b[0m \u001b[0minput\u001b[0m\u001b[0;34m(\u001b[0m\u001b[0;34m\"Enter your card number \"\u001b[0m\u001b[0;34m)\u001b[0m\u001b[0;34m\u001b[0m\u001b[0;34m\u001b[0m\u001b[0m\n\u001b[0;32m----> 3\u001b[0;31m \u001b[0mlen\u001b[0m\u001b[0;34m(\u001b[0m\u001b[0mnum\u001b[0m\u001b[0;34m)\u001b[0m\u001b[0;34m\u001b[0m\u001b[0;34m\u001b[0m\u001b[0m\n\u001b[0m\u001b[1;32m      4\u001b[0m \u001b[0mlength\u001b[0m \u001b[0;34m=\u001b[0m \u001b[0;36m0\u001b[0m\u001b[0;34m\u001b[0m\u001b[0;34m\u001b[0m\u001b[0m\n\u001b[1;32m      5\u001b[0m \u001b[0mx\u001b[0m\u001b[0;34m=\u001b[0m \u001b[0mSentlength\u001b[0m\u001b[0;34m-\u001b[0m\u001b[0;36m4\u001b[0m\u001b[0;34m\u001b[0m\u001b[0;34m\u001b[0m\u001b[0m\n",
            "\u001b[0;31mTypeError\u001b[0m: 'int' object is not callable"
          ]
        }
      ]
    },
    {
      "cell_type": "code",
      "source": [
        "#Are the Xs equal to the Os?"
      ],
      "metadata": {
        "id": "NTZeNbldTEU9"
      },
      "execution_count": null,
      "outputs": []
    }
  ]
}